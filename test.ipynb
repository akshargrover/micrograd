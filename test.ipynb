{
 "cells": [
  {
   "cell_type": "markdown",
   "id": "d6c976a7",
   "metadata": {},
   "source": [
    "# MicroGrad"
   ]
  },
  {
   "cell_type": "code",
   "execution_count": null,
   "id": "abc3ef06",
   "metadata": {},
   "outputs": [],
   "source": []
  }
 ],
 "metadata": {
  "kernelspec": {
   "display_name": "Python 3",
   "language": "python",
   "name": "python3"
  },
  "language_info": {
   "name": "python",
   "version": "3.12.9"
  }
 },
 "nbformat": 4,
 "nbformat_minor": 5
}
